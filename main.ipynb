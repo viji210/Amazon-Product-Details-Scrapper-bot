{
  "nbformat": 4,
  "nbformat_minor": 0,
  "metadata": {
    "colab": {
      "name": "main.ipynb",
      "provenance": [],
      "collapsed_sections": []
    },
    "kernelspec": {
      "name": "python3",
      "display_name": "Python 3"
    },
    "language_info": {
      "name": "python"
    }
  },
  "cells": [
    {
      "cell_type": "code",
      "execution_count": 5,
      "metadata": {
        "colab": {
          "base_uri": "https://localhost:8080/"
        },
        "id": "CyO6DqHMrlWR",
        "outputId": "a5aa256f-7316-47a6-c54a-7e8c2a50d8f9"
      },
      "outputs": [
        {
          "output_type": "stream",
          "name": "stdout",
          "text": [
            "Requirement already satisfied: selenium in /usr/local/lib/python3.7/dist-packages (4.1.0)\n",
            "Requirement already satisfied: trio-websocket~=0.9 in /usr/local/lib/python3.7/dist-packages (from selenium) (0.9.2)\n",
            "Requirement already satisfied: urllib3[secure]~=1.26 in /usr/local/lib/python3.7/dist-packages (from selenium) (1.26.8)\n",
            "Requirement already satisfied: trio~=0.17 in /usr/local/lib/python3.7/dist-packages (from selenium) (0.19.0)\n",
            "Requirement already satisfied: sniffio in /usr/local/lib/python3.7/dist-packages (from trio~=0.17->selenium) (1.2.0)\n",
            "Requirement already satisfied: attrs>=19.2.0 in /usr/local/lib/python3.7/dist-packages (from trio~=0.17->selenium) (21.4.0)\n",
            "Requirement already satisfied: outcome in /usr/local/lib/python3.7/dist-packages (from trio~=0.17->selenium) (1.1.0)\n",
            "Requirement already satisfied: sortedcontainers in /usr/local/lib/python3.7/dist-packages (from trio~=0.17->selenium) (2.4.0)\n",
            "Requirement already satisfied: idna in /usr/local/lib/python3.7/dist-packages (from trio~=0.17->selenium) (2.10)\n",
            "Requirement already satisfied: async-generator>=1.9 in /usr/local/lib/python3.7/dist-packages (from trio~=0.17->selenium) (1.10)\n",
            "Requirement already satisfied: wsproto>=0.14 in /usr/local/lib/python3.7/dist-packages (from trio-websocket~=0.9->selenium) (1.0.0)\n",
            "Requirement already satisfied: pyOpenSSL>=0.14 in /usr/local/lib/python3.7/dist-packages (from urllib3[secure]~=1.26->selenium) (22.0.0)\n",
            "Requirement already satisfied: certifi in /usr/local/lib/python3.7/dist-packages (from urllib3[secure]~=1.26->selenium) (2021.10.8)\n",
            "Requirement already satisfied: cryptography>=1.3.4 in /usr/local/lib/python3.7/dist-packages (from urllib3[secure]~=1.26->selenium) (36.0.1)\n",
            "Requirement already satisfied: cffi>=1.12 in /usr/local/lib/python3.7/dist-packages (from cryptography>=1.3.4->urllib3[secure]~=1.26->selenium) (1.15.0)\n",
            "Requirement already satisfied: pycparser in /usr/local/lib/python3.7/dist-packages (from cffi>=1.12->cryptography>=1.3.4->urllib3[secure]~=1.26->selenium) (2.21)\n",
            "Requirement already satisfied: h11<1,>=0.9.0 in /usr/local/lib/python3.7/dist-packages (from wsproto>=0.14->trio-websocket~=0.9->selenium) (0.13.0)\n",
            "Requirement already satisfied: typing-extensions in /usr/local/lib/python3.7/dist-packages (from h11<1,>=0.9.0->wsproto>=0.14->trio-websocket~=0.9->selenium) (3.10.0.2)\n",
            "Hit:1 http://security.ubuntu.com/ubuntu bionic-security InRelease\n",
            "Hit:2 https://cloud.r-project.org/bin/linux/ubuntu bionic-cran40/ InRelease\n",
            "Hit:3 http://archive.ubuntu.com/ubuntu bionic InRelease\n",
            "Hit:4 http://ppa.launchpad.net/c2d4u.team/c2d4u4.0+/ubuntu bionic InRelease\n",
            "Hit:5 http://archive.ubuntu.com/ubuntu bionic-updates InRelease\n",
            "Hit:6 http://archive.ubuntu.com/ubuntu bionic-backports InRelease\n",
            "Hit:7 http://ppa.launchpad.net/cran/libgit2/ubuntu bionic InRelease\n",
            "Hit:8 http://ppa.launchpad.net/deadsnakes/ppa/ubuntu bionic InRelease\n",
            "Hit:9 http://ppa.launchpad.net/graphics-drivers/ppa/ubuntu bionic InRelease\n",
            "Ign:10 https://developer.download.nvidia.com/compute/cuda/repos/ubuntu1804/x86_64  InRelease\n",
            "Ign:11 https://developer.download.nvidia.com/compute/machine-learning/repos/ubuntu1804/x86_64  InRelease\n",
            "Hit:12 https://developer.download.nvidia.com/compute/cuda/repos/ubuntu1804/x86_64  Release\n",
            "Hit:13 https://developer.download.nvidia.com/compute/machine-learning/repos/ubuntu1804/x86_64  Release\n",
            "Reading package lists... Done\n",
            "Reading package lists... Done\n",
            "Building dependency tree       \n",
            "Reading state information... Done\n",
            "chromium-chromedriver is already the newest version (97.0.4692.71-0ubuntu0.18.04.1).\n",
            "The following packages were automatically installed and are no longer required:\n",
            "  cuda-command-line-tools-10-0 cuda-command-line-tools-10-1\n",
            "  cuda-command-line-tools-11-0 cuda-compiler-10-0 cuda-compiler-10-1\n",
            "  cuda-compiler-11-0 cuda-cuobjdump-10-0 cuda-cuobjdump-10-1\n",
            "  cuda-cuobjdump-11-0 cuda-cupti-10-0 cuda-cupti-10-1 cuda-cupti-11-0\n",
            "  cuda-cupti-dev-11-0 cuda-documentation-10-0 cuda-documentation-10-1\n",
            "  cuda-documentation-11-0 cuda-documentation-11-1 cuda-gdb-10-0 cuda-gdb-10-1\n",
            "  cuda-gdb-11-0 cuda-gpu-library-advisor-10-0 cuda-gpu-library-advisor-10-1\n",
            "  cuda-libraries-10-0 cuda-libraries-10-1 cuda-libraries-11-0\n",
            "  cuda-memcheck-10-0 cuda-memcheck-10-1 cuda-memcheck-11-0 cuda-nsight-10-0\n",
            "  cuda-nsight-10-1 cuda-nsight-11-0 cuda-nsight-11-1 cuda-nsight-compute-10-0\n",
            "  cuda-nsight-compute-10-1 cuda-nsight-compute-11-0 cuda-nsight-compute-11-1\n",
            "  cuda-nsight-systems-10-1 cuda-nsight-systems-11-0 cuda-nsight-systems-11-1\n",
            "  cuda-nvcc-10-0 cuda-nvcc-10-1 cuda-nvcc-11-0 cuda-nvdisasm-10-0\n",
            "  cuda-nvdisasm-10-1 cuda-nvdisasm-11-0 cuda-nvml-dev-10-0 cuda-nvml-dev-10-1\n",
            "  cuda-nvml-dev-11-0 cuda-nvprof-10-0 cuda-nvprof-10-1 cuda-nvprof-11-0\n",
            "  cuda-nvprune-10-0 cuda-nvprune-10-1 cuda-nvprune-11-0 cuda-nvtx-10-0\n",
            "  cuda-nvtx-10-1 cuda-nvtx-11-0 cuda-nvvp-10-0 cuda-nvvp-10-1 cuda-nvvp-11-0\n",
            "  cuda-nvvp-11-1 cuda-samples-10-0 cuda-samples-10-1 cuda-samples-11-0\n",
            "  cuda-samples-11-1 cuda-sanitizer-11-0 cuda-sanitizer-api-10-1\n",
            "  cuda-toolkit-10-0 cuda-toolkit-10-1 cuda-toolkit-11-0 cuda-toolkit-11-1\n",
            "  cuda-tools-10-0 cuda-tools-10-1 cuda-tools-11-0 cuda-tools-11-1\n",
            "  cuda-visual-tools-10-0 cuda-visual-tools-10-1 cuda-visual-tools-11-0\n",
            "  cuda-visual-tools-11-1 default-jre dkms freeglut3 freeglut3-dev\n",
            "  keyboard-configuration libargon2-0 libcap2 libcryptsetup12\n",
            "  libdevmapper1.02.1 libfontenc1 libidn11 libip4tc0 libjansson4\n",
            "  libnvidia-cfg1-510 libnvidia-common-460 libnvidia-common-510\n",
            "  libnvidia-extra-510 libnvidia-fbc1-510 libnvidia-gl-510 libpam-systemd\n",
            "  libpolkit-agent-1-0 libpolkit-backend-1-0 libpolkit-gobject-1-0 libxfont2\n",
            "  libxi-dev libxkbfile1 libxmu-dev libxmu-headers libxnvctrl0\n",
            "  nsight-compute-2020.2.1 nsight-compute-2022.1.0 nsight-systems-2020.3.2\n",
            "  nsight-systems-2020.3.4 nsight-systems-2021.5.2 nvidia-dkms-510\n",
            "  nvidia-kernel-common-510 nvidia-kernel-source-510 nvidia-modprobe\n",
            "  nvidia-settings openjdk-11-jre policykit-1 policykit-1-gnome python3-xkit\n",
            "  screen-resolution-extra systemd systemd-sysv udev x11-xkb-utils\n",
            "  xserver-common xserver-xorg-core-hwe-18.04 xserver-xorg-video-nvidia-510\n",
            "Use 'apt autoremove' to remove them.\n",
            "0 upgraded, 0 newly installed, 0 to remove and 66 not upgraded.\n",
            "cp: '/usr/lib/chromium-browser/chromedriver' and '/usr/bin/chromedriver' are the same file\n"
          ]
        }
      ],
      "source": [
        "!pip install selenium\n",
        "!apt-get update # to update ubuntu to correctly run apt install\n",
        "!apt install chromium-chromedriver\n",
        "!cp /usr/lib/chromium-browser/chromedriver /usr/bin\n",
        "import sys\n",
        "import pandas as pd\n",
        "import time\n",
        "import json\n",
        "from sqlalchemy import create_engine, MetaData, Table, Column, Integer, String\n",
        "\n",
        "sys.path.insert(0,'/usr/lib/chromium-browser/chromedriver')\n",
        "from selenium import webdriver\n",
        "from selenium.common.exceptions import NoSuchElementException\n",
        "chrome_options = webdriver.ChromeOptions()\n",
        "chrome_options.add_argument('--headless')\n",
        "chrome_options.add_argument('--no-sandbox')\n",
        "chrome_options.add_argument('--disable-dev-shm-usage')"
      ]
    },
    {
      "cell_type": "markdown",
      "source": [
        "# **To  create the Database**"
      ],
      "metadata": {
        "id": "GSmaNGhQsUwY"
      }
    },
    {
      "cell_type": "code",
      "source": [
        "engine = create_engine('sqlite:///Products.db', echo=True)\n",
        "meta = MetaData()\n",
        "\n",
        "products = Table(\n",
        "    \"products\", meta,\n",
        "    Column(\"id\", Integer, primary_key=True),\n",
        "    Column(\"Title\", String, nullable=False),\n",
        "    Column(\"img_URL\", String),\n",
        "    Column(\"Price\", String),\n",
        "    Column(\"Product_Details\", String),\n",
        ")"
      ],
      "metadata": {
        "id": "VvBAyOFprwET"
      },
      "execution_count": 6,
      "outputs": []
    },
    {
      "cell_type": "markdown",
      "source": [
        "## **To create the table uncomment the code and run it**"
      ],
      "metadata": {
        "id": "yk8MP7KDshDw"
      }
    },
    {
      "cell_type": "code",
      "source": [
        "# meta.create_all(engine) # # commented after creating the tables"
      ],
      "metadata": {
        "id": "FKXEtQArsC5Y",
        "colab": {
          "base_uri": "https://localhost:8080/"
        },
        "outputId": "8c4c16da-2f32-4c22-e877-e1beee292ecb"
      },
      "execution_count": 7,
      "outputs": [
        {
          "output_type": "stream",
          "name": "stdout",
          "text": [
            "2022-02-16 05:02:58,707 INFO sqlalchemy.engine.Engine BEGIN (implicit)\n",
            "2022-02-16 05:02:58,710 INFO sqlalchemy.engine.Engine PRAGMA main.table_info(\"products\")\n",
            "2022-02-16 05:02:58,714 INFO sqlalchemy.engine.Engine [raw sql] ()\n",
            "2022-02-16 05:02:58,717 INFO sqlalchemy.engine.Engine PRAGMA temp.table_info(\"products\")\n",
            "2022-02-16 05:02:58,719 INFO sqlalchemy.engine.Engine [raw sql] ()\n",
            "2022-02-16 05:02:58,723 INFO sqlalchemy.engine.Engine \n",
            "CREATE TABLE products (\n",
            "\tid INTEGER NOT NULL, \n",
            "\t\"Title\" VARCHAR NOT NULL, \n",
            "\t\"img_URL\" VARCHAR, \n",
            "\t\"Price\" VARCHAR, \n",
            "\t\"Product_Details\" VARCHAR, \n",
            "\tPRIMARY KEY (id)\n",
            ")\n",
            "\n",
            "\n",
            "2022-02-16 05:02:58,725 INFO sqlalchemy.engine.Engine [no key 0.00258s] ()\n",
            "2022-02-16 05:02:58,740 INFO sqlalchemy.engine.Engine COMMIT\n"
          ]
        }
      ]
    },
    {
      "cell_type": "markdown",
      "source": [
        "# **Bot that scrape the required details of the products and adds it to the Database**"
      ],
      "metadata": {
        "id": "CVH63y5BszOm"
      }
    },
    {
      "cell_type": "code",
      "source": [
        "# # Change the path according to where the chrome webdriver is installed on your system\n",
        "\n",
        "bot = webdriver.Chrome('chromedriver',chrome_options=chrome_options)\n",
        "\n",
        "dicts_list = []\n",
        "\n",
        "data = pd.read_csv(\"Amazon Scraping - Sheet1.csv\")\n",
        "# # change the range to your choice to scrape the no of URLS you want\n",
        "for i in range(0, 3):\n",
        "    pdt_title = \"\"\n",
        "    pdt_img_url = \"\"\n",
        "    pdt_price = \"\"\n",
        "    pdt_description = []\n",
        "    row = data.iloc[i]\n",
        "    country = row.country\n",
        "    asin = row.Asin\n",
        "    URL = f\"https://www.amazon.{country}/dp/{asin}\"\n",
        "\n",
        "    bot.get(URL)\n",
        "\n",
        "    time.sleep(2)\n",
        "\n",
        "    try:\n",
        "        cookies_accept = bot.find_element(\"name\", \"accept\")\n",
        "        cookies_accept.click()\n",
        "\n",
        "    except NoSuchElementException:\n",
        "        try:\n",
        "            time.sleep(2)\n",
        "            title = bot.find_element(\"id\", \"productTitle\")\n",
        "        except NoSuchElementException:\n",
        "            print(f\"{URL} not available\")\n",
        "            time.sleep(2)\n",
        "            pass\n",
        "        else:\n",
        "            pdt_title = title.text\n",
        "\n",
        "            time.sleep(2)\n",
        "\n",
        "            img_url = bot.find_element(\"css selector\", \"div#leftCol div#main-image-container img\")\n",
        "            pdt_img_url = img_url.get_attribute(\"src\")\n",
        "            time.sleep(2)\n",
        "\n",
        "            try:\n",
        "                price = bot.find_element(\"css selector\", \"div#centerCol div#formats a span.a-color-base\")\n",
        "                time.sleep(2)\n",
        "            except NoSuchElementException:\n",
        "                price = bot.find_element(\n",
        "                    \"css selector\",\n",
        "                    \"div#centerCol div#corePriceDisplay_desktop_feature_div span.priceToPay span.a-price\"\n",
        "                )\n",
        "                pdt_price = price.text\n",
        "                time.sleep(2)\n",
        "            else:\n",
        "                if not price:\n",
        "                    price = bot.find_element(\n",
        "                        \"css selector\",\n",
        "                        \"div#centerCol div#corePriceDisplay_desktop_feature_div span.a-price\"\n",
        "                    )\n",
        "                    pdt_price = price.text\n",
        "                    time.sleep(2)\n",
        "                else:\n",
        "                    pdt_price = price.text\n",
        "\n",
        "            try:\n",
        "                description = bot.find_elements(\"css selector\",\n",
        "                                                \"div#detailBullets_feature_div  div#detailBullets_feature_div li\")\n",
        "                time.sleep(2)\n",
        "            except NoSuchElementException:\n",
        "                description = bot.find_elements(\"css selector\", \"div#feature-bullets span.a-list-item\")\n",
        "                time.sleep(2)\n",
        "                pdt_description = [item.text for item in description]\n",
        "            else:\n",
        "                if not description:\n",
        "                    description = bot.find_elements(\"css selector\", \"div#feature-bullets span.a-list-item\")\n",
        "\n",
        "                    pdt_description = [item.text for item in description]\n",
        "                else:\n",
        "                    pdt_description = [item.text for item in description]\n",
        "\n",
        "            time.sleep(2)\n",
        "\n",
        "    else:\n",
        "        time.sleep(4)\n",
        "        title = bot.find_element(\"id\", \"productTitle\")\n",
        "        pdt_title = title.text\n",
        "\n",
        "        time.sleep(1)\n",
        "\n",
        "        img_url = bot.find_element(\"css selector\", \"div#leftCol div#main-image-container img\")\n",
        "        pdt_img_url = img_url.get_attribute(\"src\")\n",
        "        time.sleep(2)\n",
        "\n",
        "        try:\n",
        "            price = bot.find_element(\"css selector\", \"div#centerCol div#formats a span.a-color-base\")\n",
        "            time.sleep(2)\n",
        "        except NoSuchElementException:\n",
        "            price = bot.find_element(\n",
        "                \"css selector\",\n",
        "                \"div#centerCol div#corePriceDisplay_desktop_feature_div span.a-price\"\n",
        "            )\n",
        "            pdt_price = price.text\n",
        "            time.sleep(2)\n",
        "        else:\n",
        "            if not price:\n",
        "                price = bot.find_element(\n",
        "                    \"css selector\",\n",
        "                    \"div#centerCol div#corePriceDisplay_desktop_feature_div span.a-price\"\n",
        "                )\n",
        "                pdt_price = price.text\n",
        "                time.sleep(2)\n",
        "            else:\n",
        "                pdt_price = price.text\n",
        "\n",
        "        try:\n",
        "            description = bot.find_elements(\"css selector\",\n",
        "                                            \"div#detailBullets_feature_div  div#detailBullets_feature_div li\")\n",
        "            time.sleep(2)\n",
        "        except NoSuchElementException:\n",
        "            description = bot.find_elements(\"css selector\", \"div#feature-bullets span.a-list-item\")\n",
        "            time.sleep(2)\n",
        "            pdt_description = [item.text for item in description]\n",
        "        else:\n",
        "            if not description:\n",
        "                description = bot.find_elements(\"css selector\", \"div#feature-bullets span.a-list-item\")\n",
        "\n",
        "                pdt_description = [item.text for item in description]\n",
        "            else:\n",
        "                pdt_description = [item.text for item in description]\n",
        "\n",
        "        time.sleep(2)\n",
        "\n",
        "    data_dict = {\n",
        "        \"Title\": pdt_title,\n",
        "        \"Img_URL\": pdt_img_url,\n",
        "        \"Price\": pdt_price,\n",
        "        \"Product Details\": pdt_description,\n",
        "    }\n",
        "\n",
        "    if pdt_title != \"\":\n",
        "        dicts_list.append(data_dict)\n",
        "\n",
        "        add_to_db = products.insert().values(\n",
        "            Title=pdt_title,\n",
        "            img_URL=pdt_img_url,\n",
        "            Price=pdt_price,\n",
        "            Product_Details=\"\\n\".join(pdt_description)\n",
        "        )\n",
        "        conn = engine.connect()\n",
        "        result = conn.execute(add_to_db)"
      ],
      "metadata": {
        "id": "2__x1h-WsC8L",
        "colab": {
          "base_uri": "https://localhost:8080/"
        },
        "outputId": "c23543b0-825b-40bc-e9ad-47330758611b"
      },
      "execution_count": 9,
      "outputs": [
        {
          "output_type": "stream",
          "name": "stderr",
          "text": [
            "/usr/local/lib/python3.7/dist-packages/ipykernel_launcher.py:3: DeprecationWarning: use options instead of chrome_options\n",
            "  This is separate from the ipykernel package so we can avoid doing imports until\n"
          ]
        },
        {
          "output_type": "stream",
          "name": "stdout",
          "text": [
            "https://www.amazon.de/dp/1015 not available\n",
            "https://www.amazon.fr/dp/1015 not available\n",
            "2022-02-16 05:05:00,902 INFO sqlalchemy.engine.Engine INSERT INTO products (\"Title\", \"img_URL\", \"Price\", \"Product_Details\") VALUES (?, ?, ?, ?)\n",
            "2022-02-16 05:05:00,904 INFO sqlalchemy.engine.Engine [generated in 0.00177s] ('Old Spice Shaving Cream - 70 g (original) - Pack of 2', 'https://m.media-amazon.com/images/I/41xHbjdSXJL._SX355_PIbundle-2,TopRight,0,0_SX355SY222SH20_.jpg', '€8\\n00', 'Good lubrication quality in Old Spice Lather shaving foam gives optimal lubricity actions a closer comfortable shave. Rich, longer - lasting foam holds during your shave. Use Old Spice Lather shaving cream where you will find the masculine freshness of old spices.')\n",
            "2022-02-16 05:05:00,909 INFO sqlalchemy.engine.Engine COMMIT\n"
          ]
        }
      ]
    },
    {
      "cell_type": "markdown",
      "source": [
        "# **To create a output Json file** "
      ],
      "metadata": {
        "id": "bPdQIRVEsxci"
      }
    },
    {
      "cell_type": "code",
      "source": [
        "json_object = json.dumps({\"data\": dicts_list}, indent=4)\n",
        "\n",
        "with open(\"output.json\", \"w\") as file:\n",
        "    file.write(json_object)"
      ],
      "metadata": {
        "id": "JT-00l8LsC-6"
      },
      "execution_count": 10,
      "outputs": []
    },
    {
      "cell_type": "code",
      "source": [
        ""
      ],
      "metadata": {
        "id": "mDb9O4j761Ag"
      },
      "execution_count": null,
      "outputs": []
    }
  ]
}