{
  "nbformat": 4,
  "nbformat_minor": 0,
  "metadata": {
    "colab": {
      "name": "main.ipynb",
      "provenance": [],
      "collapsed_sections": []
    },
    "kernelspec": {
      "name": "python3",
      "display_name": "Python 3"
    },
    "language_info": {
      "name": "python"
    }
  },
  "cells": [
    {
      "cell_type": "code",
      "execution_count": null,
      "metadata": {
        "id": "CyO6DqHMrlWR"
      },
      "outputs": [],
      "source": [
        "!pip install selenium\n",
        "!apt-get update # to update ubuntu to correctly run apt install\n",
        "!apt install chromium-chromedriver\n",
        "!cp /usr/lib/chromium-browser/chromedriver /usr/bin\n",
        "import sys\n",
        "import pandas as pd\n",
        "import time\n",
        "import json\n",
        "from sqlalchemy import create_engine, MetaData, Table, Column, Integer, String\n",
        "\n",
        "sys.path.insert(0,'/usr/lib/chromium-browser/chromedriver')\n",
        "from selenium import webdriver\n",
        "from selenium.common.exceptions import NoSuchElementException\n",
        "chrome_options = webdriver.ChromeOptions()\n",
        "chrome_options.add_argument('--headless')\n",
        "chrome_options.add_argument('--no-sandbox')\n",
        "chrome_options.add_argument('--disable-dev-shm-usage')"
      ]
    },
    {
      "cell_type": "markdown",
      "source": [
        "# **To  create the Database**"
      ],
      "metadata": {
        "id": "GSmaNGhQsUwY"
      }
    },
    {
      "cell_type": "code",
      "source": [
        "engine = create_engine('sqlite:///Products.db', echo=True)\n",
        "meta = MetaData()\n",
        "\n",
        "products = Table(\n",
        "    \"products\", meta,\n",
        "    Column(\"id\", Integer, primary_key=True),\n",
        "    Column(\"Title\", String, nullable=False),\n",
        "    Column(\"img_URL\", String),\n",
        "    Column(\"Price\", String),\n",
        "    Column(\"Product_Details\", String),\n",
        ")"
      ],
      "metadata": {
        "id": "VvBAyOFprwET"
      },
      "execution_count": 6,
      "outputs": []
    },
    {
      "cell_type": "markdown",
      "source": [
        "## **To create the table uncomment the code and run it**"
      ],
      "metadata": {
        "id": "yk8MP7KDshDw"
      }
    },
    {
      "cell_type": "code",
      "source": [
        "meta.create_all(engine) # # commented after creating the tables"
      ],
      "metadata": {
        "id": "FKXEtQArsC5Y"
      },
      "execution_count": null,
      "outputs": []
    },
    {
      "cell_type": "markdown",
      "source": [
        "# **Bot that scrape the required details of the products and adds it to the Database**"
      ],
      "metadata": {
        "id": "CVH63y5BszOm"
      }
    },
    {
      "cell_type": "code",
      "source": [
        "# # Change the path according to where the chrome webdriver is installed on your system\n",
        "\n",
        "bot = webdriver.Chrome('chromedriver',chrome_options=chrome_options)\n",
        "\n",
        "dicts_list = []\n",
        "\n",
        "data = pd.read_csv(\"Amazon Scraping - Sheet1.csv\")\n",
        "# # change the range to your choice to scrape the no of URLS you want\n",
        "for i in range(0, 3):\n",
        "    pdt_title = \"\"\n",
        "    pdt_img_url = \"\"\n",
        "    pdt_price = \"\"\n",
        "    pdt_description = []\n",
        "    row = data.iloc[i]\n",
        "    country = row.country\n",
        "    asin = row.Asin\n",
        "    URL = f\"https://www.amazon.{country}/dp/{asin}\"\n",
        "\n",
        "    bot.get(URL)\n",
        "\n",
        "    time.sleep(2)\n",
        "\n",
        "    try:\n",
        "        cookies_accept = bot.find_element(\"name\", \"accept\")\n",
        "        cookies_accept.click()\n",
        "\n",
        "    except NoSuchElementException:\n",
        "        try:\n",
        "            time.sleep(2)\n",
        "            title = bot.find_element(\"id\", \"productTitle\")\n",
        "        except NoSuchElementException:\n",
        "            print(f\"{URL} not available\")\n",
        "            time.sleep(2)\n",
        "            pass\n",
        "        else:\n",
        "            pdt_title = title.text\n",
        "\n",
        "            time.sleep(2)\n",
        "\n",
        "            img_url = bot.find_element(\"css selector\", \"div#leftCol div#main-image-container img\")\n",
        "            pdt_img_url = img_url.get_attribute(\"src\")\n",
        "            time.sleep(2)\n",
        "\n",
        "            try:\n",
        "                price = bot.find_element(\"css selector\", \"div#centerCol div#formats a span.a-color-base\")\n",
        "                time.sleep(2)\n",
        "            except NoSuchElementException:\n",
        "                price = bot.find_element(\n",
        "                    \"css selector\",\n",
        "                    \"div#centerCol div#corePriceDisplay_desktop_feature_div span.priceToPay span.a-price\"\n",
        "                )\n",
        "                pdt_price = price.text\n",
        "                time.sleep(2)\n",
        "            else:\n",
        "                if not price:\n",
        "                    price = bot.find_element(\n",
        "                        \"css selector\",\n",
        "                        \"div#centerCol div#corePriceDisplay_desktop_feature_div span.a-price\"\n",
        "                    )\n",
        "                    pdt_price = price.text\n",
        "                    time.sleep(2)\n",
        "                else:\n",
        "                    pdt_price = price.text\n",
        "\n",
        "            try:\n",
        "                description = bot.find_elements(\"css selector\",\n",
        "                                                \"div#detailBullets_feature_div  div#detailBullets_feature_div li\")\n",
        "                time.sleep(2)\n",
        "            except NoSuchElementException:\n",
        "                description = bot.find_elements(\"css selector\", \"div#feature-bullets span.a-list-item\")\n",
        "                time.sleep(2)\n",
        "                pdt_description = [item.text for item in description]\n",
        "            else:\n",
        "                if not description:\n",
        "                    description = bot.find_elements(\"css selector\", \"div#feature-bullets span.a-list-item\")\n",
        "\n",
        "                    pdt_description = [item.text for item in description]\n",
        "                else:\n",
        "                    pdt_description = [item.text for item in description]\n",
        "\n",
        "            time.sleep(2)\n",
        "\n",
        "    else:\n",
        "        time.sleep(4)\n",
        "        title = bot.find_element(\"id\", \"productTitle\")\n",
        "        pdt_title = title.text\n",
        "\n",
        "        time.sleep(1)\n",
        "\n",
        "        img_url = bot.find_element(\"css selector\", \"div#leftCol div#main-image-container img\")\n",
        "        pdt_img_url = img_url.get_attribute(\"src\")\n",
        "        time.sleep(2)\n",
        "\n",
        "        try:\n",
        "            price = bot.find_element(\"css selector\", \"div#centerCol div#formats a span.a-color-base\")\n",
        "            time.sleep(2)\n",
        "        except NoSuchElementException:\n",
        "            price = bot.find_element(\n",
        "                \"css selector\",\n",
        "                \"div#centerCol div#corePriceDisplay_desktop_feature_div span.a-price\"\n",
        "            )\n",
        "            pdt_price = price.text\n",
        "            time.sleep(2)\n",
        "        else:\n",
        "            if not price:\n",
        "                price = bot.find_element(\n",
        "                    \"css selector\",\n",
        "                    \"div#centerCol div#corePriceDisplay_desktop_feature_div span.a-price\"\n",
        "                )\n",
        "                pdt_price = price.text\n",
        "                time.sleep(2)\n",
        "            else:\n",
        "                pdt_price = price.text\n",
        "\n",
        "        try:\n",
        "            description = bot.find_elements(\"css selector\",\n",
        "                                            \"div#detailBullets_feature_div  div#detailBullets_feature_div li\")\n",
        "            time.sleep(2)\n",
        "        except NoSuchElementException:\n",
        "            description = bot.find_elements(\"css selector\", \"div#feature-bullets span.a-list-item\")\n",
        "            time.sleep(2)\n",
        "            pdt_description = [item.text for item in description]\n",
        "        else:\n",
        "            if not description:\n",
        "                description = bot.find_elements(\"css selector\", \"div#feature-bullets span.a-list-item\")\n",
        "\n",
        "                pdt_description = [item.text for item in description]\n",
        "            else:\n",
        "                pdt_description = [item.text for item in description]\n",
        "\n",
        "        time.sleep(2)\n",
        "\n",
        "    data_dict = {\n",
        "        \"Title\": pdt_title,\n",
        "        \"Img_URL\": pdt_img_url,\n",
        "        \"Price\": pdt_price,\n",
        "        \"Product Details\": pdt_description,\n",
        "    }\n",
        "\n",
        "    if pdt_title != \"\":\n",
        "        dicts_list.append(data_dict)\n",
        "\n",
        "        add_to_db = products.insert().values(\n",
        "            Title=pdt_title,\n",
        "            img_URL=pdt_img_url,\n",
        "            Price=pdt_price,\n",
        "            Product_Details=\"\\n\".join(pdt_description)\n",
        "        )\n",
        "        conn = engine.connect()\n",
        "        result = conn.execute(add_to_db)"
      ],
      "metadata": {
        "id": "2__x1h-WsC8L"
      },
      "execution_count": null,
      "outputs": []
    },
    {
      "cell_type": "markdown",
      "source": [
        "# **To create a output Json file** "
      ],
      "metadata": {
        "id": "bPdQIRVEsxci"
      }
    },
    {
      "cell_type": "code",
      "source": [
        "json_object = json.dumps({\"data\": dicts_list}, indent=4)\n",
        "\n",
        "with open(\"output.json\", \"w\") as file:\n",
        "    file.write(json_object)"
      ],
      "metadata": {
        "id": "JT-00l8LsC-6"
      },
      "execution_count": 10,
      "outputs": []
    }
  ]
}